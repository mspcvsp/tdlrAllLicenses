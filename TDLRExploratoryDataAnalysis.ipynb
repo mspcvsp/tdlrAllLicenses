{
 "cells": [
  {
   "cell_type": "markdown",
   "metadata": {},
   "source": [
    "### Initialize Software Environment"
   ]
  },
  {
   "cell_type": "code",
   "execution_count": 1,
   "metadata": {
    "collapsed": true
   },
   "outputs": [],
   "source": [
    "from elasticsearch import Elasticsearch\n",
    "from elasticsearch_dsl import Search\n",
    "import numpy as np\n",
    "import folium\n",
    "from folium import plugins\n",
    "from IPython.display import display\n",
    "import re\n",
    "\n",
    "import matplotlib.pyplot as plt\n",
    "import seaborn as sns\n",
    "%matplotlib inline"
   ]
  },
  {
   "cell_type": "markdown",
   "metadata": {},
   "source": [
    "### Define functions\n",
    "-[Python Elasticsearch DSL](http://stackoverflow.com/questions/29380198/aggregate-a-field-in-elasticsearch-dsl-using-python)  \n",
    "-[Python Elasticsearch DSL Library Documentation](http://elasticsearch-dsl.readthedocs.io/en/latest/search_dsl.html)  \n",
    "-[Elasticsearch DSL Filter](http://stackoverflow.com/questions/28564303/how-do-i-create-an-or-filter-using-elasticsearch-dsl-py)  \n",
    "-[Folium library example](https://blog.dominodatalab.com/creating-interactive-crime-maps-with-folium/)  \n",
    "-[Folium Python Library](https://pypi.python.org/pypi/folium)  \n",
    "-[Display Folium map in Jupyter notebook](https://github.com/python-visualization/folium/issues/90)  \n",
    "-[Open Street Map copyright](http://www.openstreetmap.org/copyright)"
   ]
  },
  {
   "cell_type": "code",
   "execution_count": 2,
   "metadata": {
    "collapsed": false
   },
   "outputs": [],
   "source": [
    "def aggregate_term(clusterobj,\n",
    "                   term,\n",
    "                   businesscounty=None):\n",
    "    \"\"\" Computes a term aggregation\n",
    "    \n",
    "    Args;\n",
    "        clusterobj: Elasticsearch cluster handle\n",
    "        \n",
    "        term: String that stores a term\n",
    "        \n",
    "        businesscounty: (Optional) Refers to a specific county\n",
    "    \n",
    "    Returns:\n",
    "        term_aggregation: List of tuples that stores a term\n",
    "                          aggregation\"\"\"\n",
    "    if businesscounty is None:\n",
    "        searchobj = Search(using=clusterobj,\n",
    "                           index=\"texasopendata\",\n",
    "                           doc_type=\"tdlr\")\n",
    "    else:\n",
    "        searchobj =\\\n",
    "            Search(using=clusterobj,\n",
    "                   index=\"texasopendata\",\n",
    "                   doc_type=\"tdlr\").query('match',\n",
    "                                          businesscounty=businesscounty)\n",
    "    \n",
    "    aggregation_name = 'by_' + term\n",
    "    \n",
    "    searchobj.aggs.bucket(aggregation_name,\n",
    "                          'terms',\n",
    "                          field=term,\n",
    "                          size=0)\n",
    "\n",
    "    resultsobj = searchobj.execute()\n",
    "\n",
    "    term_aggregation = []\n",
    "\n",
    "    for elem in resultsobj.aggregations[aggregation_name].buckets:\n",
    "        term_aggregation.append((elem['doc_count'], elem['key']))\n",
    "        \n",
    "    return term_aggregation\n",
    "\n",
    "def get_term_counts(term_aggregation):\n",
    "    \"\"\" Returns a list of term counts\n",
    "    \n",
    "    Args:\n",
    "        term_aggregation: List of tuples that stores a term aggregation\n",
    "    \n",
    "    Returns:\n",
    "        term_count: List of term counts\"\"\"\n",
    "    return[elem[0] for elem in term_aggregation]\n",
    "\n",
    "def compute_cumulativecount_statistic(term_aggregation):\n",
    "    \"\"\" Computes a cumulative count statistic that is analagous\n",
    "    to a Cumulative Distribution Function (CDF)\n",
    "    \n",
    "    Args:\n",
    "        term_aggregation: List of tuples that stores a term aggregation\n",
    "    \n",
    "    Returns:\n",
    "        cumulativecount_statistic: Cumulative count statistic that is\n",
    "                                   analagous to a CDF\"\"\"\n",
    "    normalized_counts = get_term_counts(term_aggregation)\n",
    "\n",
    "    total_counts = np.sum(normalized_counts)\n",
    "\n",
    "    normalized_counts = normalized_counts / total_counts\n",
    "\n",
    "    return np.cumsum(normalized_counts)\n",
    "\n",
    "def eval_term_percentcontribution(term,\n",
    "                                  term_aggregation,\n",
    "                                  cumulativecount_statistic,\n",
    "                                  threshold):\n",
    "    \"\"\" Estimates the percent contribution of each unique term instance\n",
    "    \n",
    "    Args:\n",
    "        term: String that refers to a specific term\n",
    "        \n",
    "        term_aggregation: List of tuples that stores a term aggregation\n",
    "        \n",
    "        cumulativecount_statistic: Cumulative count statistic that is\n",
    "                                   analagous to a CDF\n",
    "        \n",
    "        threshold: Cumulative count statistic threshold\"\"\"\n",
    "    threshold_idx = int(np.argwhere(bylicensetype_cdf >= threshold)[0])\n",
    "    \n",
    "    print(\"%d %s span %g%% of all %s\" % (threshold_idx+1,\n",
    "                                         term,\n",
    "                                         100*threshold,\n",
    "                                         term))\n",
    "    print(\"\")\n",
    "    total_counts = np.sum(get_term_counts(term_aggregation))\n",
    "    print(\"Total counts:%d\" % (total_counts))\n",
    "    print(\"\")\n",
    "\n",
    "    term_aggregation = term_aggregation[:threshold_idx+1]\n",
    "\n",
    "    percent_contribution = [(np.round(100.0*elem[0] / float(total_counts), 1),\n",
    "                            elem[1]) for elem in term_aggregation]\n",
    "\n",
    "    for elem in percent_contribution:\n",
    "        print(\"%s:  %g%% of total counts\" % (elem[1], elem[0]))\n",
    "\n",
    "def generate_licensetype_heatmap(clusterobj,\n",
    "                                 licensetype,\n",
    "                                 businesscounty):\n",
    "    \"\"\" Generates a licensetype heatmap for a specific businesscounty\n",
    "    \n",
    "    Args:\n",
    "        clusterobj: Elasticsearch cluster handle\n",
    "        \n",
    "        licensetype: String that refers to a specific license type\n",
    "\n",
    "        businesscounty: String that refers to a specific businesscounty\"\"\"\n",
    "    searchobj = Search(using=clusterobj,\n",
    "                       index=\"texasopendata\",\n",
    "                       doc_type=\"tdlr\"\n",
    "                ).filter(\n",
    "                    \"term\", businesscounty=businesscounty\n",
    "                ).filter(\n",
    "                    \"term\", licensetype=licensetype\n",
    "                )\n",
    "\n",
    "    mailingaddresslocation = []\n",
    "\n",
    "    for elem in searchobj.scan():\n",
    "        if elem.mailingaddresslocation['lat'] != -1 and\\\n",
    "           elem.mailingaddresslocation['lat'] != -1:\n",
    "            mailingaddresslocation.append((elem.mailingaddresslocation['lat'],\n",
    "                                           elem.mailingaddresslocation['lon']))\n",
    "\n",
    "    center_latitude = np.mean([elem[0] for elem in mailingaddresslocation])\n",
    "    center_longitude = np.mean([elem[1] for elem in mailingaddresslocation])\n",
    "\n",
    "    map_osm = folium.Map(location=[center_latitude, center_longitude])\n",
    "    map_osm.add_children(plugins.HeatMap(mailingaddresslocation,\n",
    "                                         min_opacity=0.1))\n",
    "    display(map_osm)\n",
    "    \n",
    "    map_osm.save(re.sub(' ', '', licensetype) + \"_\" + businesscounty + \".html\")"
   ]
  },
  {
   "cell_type": "markdown",
   "metadata": {},
   "source": [
    "### Initialize Elasticsearch cluster reference"
   ]
  },
  {
   "cell_type": "code",
   "execution_count": 3,
   "metadata": {
    "collapsed": true
   },
   "outputs": [],
   "source": [
    "clusterobj = Elasticsearch('localhost:9200')"
   ]
  },
  {
   "cell_type": "markdown",
   "metadata": {},
   "source": [
    "### Compute statistics"
   ]
  },
  {
   "cell_type": "code",
   "execution_count": 4,
   "metadata": {
    "collapsed": false
   },
   "outputs": [
    {
     "name": "stdout",
     "output_type": "stream",
     "text": [
      "18 licensetype span 90% of all licensetype\n",
      "\n",
      "Total counts:577746\n",
      "\n",
      "Cosmetology Operator:  25.7% of total counts\n",
      "Apprentice Electrician:  18.3% of total counts\n",
      "Cosmetology Manicurist:  8.4% of total counts\n",
      "Journeyman Electrician:  6.6% of total counts\n",
      "A/C Technician:  4.6% of total counts\n",
      "Cosmetology Esthetician:  4% of total counts\n",
      "Cosmetology Beauty Salon:  4% of total counts\n",
      "Master Electrician:  2.9% of total counts\n",
      "A/C Contractor:  2.8% of total counts\n",
      "Barber, Class A:  2.7% of total counts\n",
      "Legal Service Contract Sales Rep:  1.9% of total counts\n",
      "Electrical Contractor:  1.7% of total counts\n",
      "Cos Mini Salon:  1.6% of total counts\n",
      "Tow Truck Operator (Incident Management):  1.3% of total counts\n",
      "Cosmetology Esthetician/Manicure Salon:  1.1% of total counts\n",
      "Tow Truck Operator (Consent Tow):  1.1% of total counts\n",
      "Cosmetologist:  1.1% of total counts\n",
      "Cosmetology Operator Instructor:  1% of total counts\n"
     ]
    }
   ],
   "source": [
    "term = 'licensetype'\n",
    "threshold = 0.9\n",
    "\n",
    "bylicensetype = aggregate_term(clusterobj, term)\n",
    "    \n",
    "bylicensetype_cdf = compute_cumulativecount_statistic(bylicensetype)\n",
    "\n",
    "eval_term_percentcontribution(term,\n",
    "                              bylicensetype,\n",
    "                              bylicensetype_cdf,\n",
    "                              threshold)"
   ]
  },
  {
   "cell_type": "code",
   "execution_count": 5,
   "metadata": {
    "collapsed": false
   },
   "outputs": [
    {
     "ename": "AttributeError",
     "evalue": "module 'matplotlib.pyplot' has no attribute 'save'",
     "output_type": "error",
     "traceback": [
      "\u001b[1;31m---------------------------------------------------------------------------\u001b[0m",
      "\u001b[1;31mAttributeError\u001b[0m                            Traceback (most recent call last)",
      "\u001b[1;32m<ipython-input-5-635358afb2bb>\u001b[0m in \u001b[0;36m<module>\u001b[1;34m()\u001b[0m\n\u001b[0;32m      4\u001b[0m \u001b[0mplt\u001b[0m\u001b[1;33m.\u001b[0m\u001b[0mylabel\u001b[0m\u001b[1;33m(\u001b[0m\u001b[1;34m'Percentage of total licenses'\u001b[0m\u001b[1;33m)\u001b[0m\u001b[1;33m\u001b[0m\u001b[0m\n\u001b[0;32m      5\u001b[0m \u001b[0mplt\u001b[0m\u001b[1;33m.\u001b[0m\u001b[0mtitle\u001b[0m\u001b[1;33m(\u001b[0m\u001b[1;34m'TDLR License Type Cumulative Statistic'\u001b[0m\u001b[1;33m)\u001b[0m\u001b[1;33m\u001b[0m\u001b[0m\n\u001b[1;32m----> 6\u001b[1;33m \u001b[0mplt\u001b[0m\u001b[1;33m.\u001b[0m\u001b[0msave\u001b[0m\u001b[1;33m(\u001b[0m\u001b[1;34m'licensetype.png'\u001b[0m\u001b[1;33m)\u001b[0m\u001b[1;33m\u001b[0m\u001b[0m\n\u001b[0m",
      "\u001b[1;31mAttributeError\u001b[0m: module 'matplotlib.pyplot' has no attribute 'save'"
     ]
    },
    {
     "data": {
      "image/png": "[encoded data removed]",
      "text/plain": [
       "<matplotlib.figure.Figure at 0x7fdf2daeceb8>"
      ]
     },
     "metadata": {},
     "output_type": "display_data"
    }
   ],
   "source": [
    "sns.set(font_scale=1.5)\n",
    "plt.plot(100*bylicensetype_cdf)\n",
    "plt.xlabel('Number of unique license types')\n",
    "plt.ylabel('Percentage of total licenses')\n",
    "plt.title('TDLR License Type Cumulative Statistic')\n",
    "plt.save('licensetype.png')"
   ]
  },
  {
   "cell_type": "code",
   "execution_count": null,
   "metadata": {
    "collapsed": false
   },
   "outputs": [],
   "source": [
    "term = 'businesscounty'\n",
    "threshold = 0.9\n",
    "\n",
    "bybusinesscounty = aggregate_term(clusterobj, term)\n",
    "    \n",
    "bybusinesscounty_cdf = compute_cumulativecount_statistic(bybusinesscounty)\n",
    "\n",
    "eval_term_percentcontribution(term,\n",
    "                              bybusinesscounty,\n",
    "                              bybusinesscounty_cdf,\n",
    "                              threshold)"
   ]
  },
  {
   "cell_type": "code",
   "execution_count": null,
   "metadata": {
    "collapsed": false
   },
   "outputs": [],
   "source": [
    "sns.set(font_scale=1.5)\n",
    "plt.plot(100*bybusinesscounty_cdf)\n",
    "plt.xlabel('Number of unique business counties')\n",
    "plt.ylabel('Percentage of total business counties')\n",
    "plt.title('TDLR Business County Cumulative Statistic')\n",
    "plt.save('businesscounty.png')"
   ]
  },
  {
   "cell_type": "code",
   "execution_count": null,
   "metadata": {
    "collapsed": false
   },
   "outputs": [],
   "source": [
    "term = 'licensetype'\n",
    "businesscounty = 'HARRIS'\n",
    "threshold = 0.9\n",
    "\n",
    "bylicensetype = aggregate_term(clusterobj,\n",
    "                               term,\n",
    "                               businesscounty)\n",
    "    \n",
    "bylicensetype_cdf = compute_cumulativecount_statistic(bylicensetype)\n",
    "\n",
    "eval_term_percentcontribution(term,\n",
    "                              bylicensetype,\n",
    "                              bylicensetype_cdf,\n",
    "                              threshold)"
   ]
  },
  {
   "cell_type": "markdown",
   "metadata": {},
   "source": [
    "### Generate heatmaps"
   ]
  },
  {
   "cell_type": "code",
   "execution_count": null,
   "metadata": {
    "collapsed": false
   },
   "outputs": [],
   "source": [
    "generate_licensetype_heatmap(clusterobj,\n",
    "                             'Cosmetology Operator',\n",
    "                             'HARRIS')"
   ]
  },
  {
   "cell_type": "code",
   "execution_count": null,
   "metadata": {
    "collapsed": false
   },
   "outputs": [],
   "source": [
    "generate_licensetype_heatmap(clusterobj,\n",
    "                             'Apprentice Electrician',\n",
    "                             'HARRIS')"
   ]
  },
  {
   "cell_type": "code",
   "execution_count": null,
   "metadata": {
    "collapsed": true
   },
   "outputs": [],
   "source": []
  }
 ],
 "metadata": {
  "kernelspec": {
   "display_name": "Python 3",
   "language": "python",
   "name": "python3"
  },
  "language_info": {
   "codemirror_mode": {
    "name": "ipython",
    "version": 3
   },
   "file_extension": ".py",
   "mimetype": "text/x-python",
   "name": "python",
   "nbconvert_exporter": "python",
   "pygments_lexer": "ipython3",
   "version": "3.5.1"
  }
 },
 "nbformat": 4,
 "nbformat_minor": 0
}
